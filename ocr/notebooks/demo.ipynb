{
 "cells": [
  {
   "cell_type": "code",
   "execution_count": 1,
   "metadata": {},
   "outputs": [],
   "source": [
    "import sys\n",
    "\n",
    "sys.path.append(\"../\")"
   ]
  },
  {
   "cell_type": "code",
   "execution_count": 2,
   "metadata": {},
   "outputs": [],
   "source": [
    "import pandas as pd\n",
    "import matplotlib.pyplot as plt\n",
    "\n",
    "from PIL import Image\n",
    "\n",
    "from text_extractor import TextExtractor"
   ]
  },
  {
   "cell_type": "code",
   "execution_count": 3,
   "metadata": {},
   "outputs": [
    {
     "data": {
      "text/html": [
       "<div>\n",
       "<style scoped>\n",
       "    .dataframe tbody tr th:only-of-type {\n",
       "        vertical-align: middle;\n",
       "    }\n",
       "\n",
       "    .dataframe tbody tr th {\n",
       "        vertical-align: top;\n",
       "    }\n",
       "\n",
       "    .dataframe thead th {\n",
       "        text-align: right;\n",
       "    }\n",
       "</style>\n",
       "<table border=\"1\" class=\"dataframe\">\n",
       "  <thead>\n",
       "    <tr style=\"text-align: right;\">\n",
       "      <th></th>\n",
       "      <th>link</th>\n",
       "      <th>description</th>\n",
       "    </tr>\n",
       "  </thead>\n",
       "  <tbody>\n",
       "    <tr>\n",
       "      <th>0</th>\n",
       "      <td>https://cdn-st.rutubelist.ru/media/b0/e9/ef285...</td>\n",
       "      <td>#нарезкистримов , #dota2 , #cs2 , #fifa23 , #m...</td>\n",
       "    </tr>\n",
       "    <tr>\n",
       "      <th>1</th>\n",
       "      <td>https://cdn-st.rutubelist.ru/media/39/6c/b31bc...</td>\n",
       "      <td>🤫НЕ ВВОДИ ЭТУ КОМАНДУ В РОБЛОКС ! #shorts #rob...</td>\n",
       "    </tr>\n",
       "    <tr>\n",
       "      <th>2</th>\n",
       "      <td>https://cdn-st.rutubelist.ru/media/e9/e0/b47a9...</td>\n",
       "      <td>#boobs , #красивыедевушки , #ass</td>\n",
       "    </tr>\n",
       "    <tr>\n",
       "      <th>3</th>\n",
       "      <td>https://cdn-st.rutubelist.ru/media/87/43/b11df...</td>\n",
       "      <td>NaN</td>\n",
       "    </tr>\n",
       "    <tr>\n",
       "      <th>4</th>\n",
       "      <td>https://cdn-st.rutubelist.ru/media/d1/e7/642dc...</td>\n",
       "      <td>NaN</td>\n",
       "    </tr>\n",
       "    <tr>\n",
       "      <th>...</th>\n",
       "      <td>...</td>\n",
       "      <td>...</td>\n",
       "    </tr>\n",
       "    <tr>\n",
       "      <th>399995</th>\n",
       "      <td>https://cdn-st.rutubelist.ru/media/dd/6a/ac296...</td>\n",
       "      <td>#ceramics #handmade #ceramic #clay #ceramicscu...</td>\n",
       "    </tr>\n",
       "    <tr>\n",
       "      <th>399996</th>\n",
       "      <td>https://cdn-st.rutubelist.ru/media/aa/d3/4b4c3...</td>\n",
       "      <td>#красивыедевушки #красотки #грудь #boobs #секс...</td>\n",
       "    </tr>\n",
       "    <tr>\n",
       "      <th>399997</th>\n",
       "      <td>https://cdn-st.rutubelist.ru/media/73/05/3f80f...</td>\n",
       "      <td>#лайфхаки , #эксперименты , #roblox , #игрушки...</td>\n",
       "    </tr>\n",
       "    <tr>\n",
       "      <th>399998</th>\n",
       "      <td>https://cdn-st.rutubelist.ru/media/f8/2b/320f7...</td>\n",
       "      <td>#образ #lookbook #показ #неделямоды #капсула #...</td>\n",
       "    </tr>\n",
       "    <tr>\n",
       "      <th>399999</th>\n",
       "      <td>https://cdn-st.rutubelist.ru/media/19/1b/5711a...</td>\n",
       "      <td>#образ #lookbook #показ #неделямоды #капсула #...</td>\n",
       "    </tr>\n",
       "  </tbody>\n",
       "</table>\n",
       "<p>400000 rows × 2 columns</p>\n",
       "</div>"
      ],
      "text/plain": [
       "                                                     link  \\\n",
       "0       https://cdn-st.rutubelist.ru/media/b0/e9/ef285...   \n",
       "1       https://cdn-st.rutubelist.ru/media/39/6c/b31bc...   \n",
       "2       https://cdn-st.rutubelist.ru/media/e9/e0/b47a9...   \n",
       "3       https://cdn-st.rutubelist.ru/media/87/43/b11df...   \n",
       "4       https://cdn-st.rutubelist.ru/media/d1/e7/642dc...   \n",
       "...                                                   ...   \n",
       "399995  https://cdn-st.rutubelist.ru/media/dd/6a/ac296...   \n",
       "399996  https://cdn-st.rutubelist.ru/media/aa/d3/4b4c3...   \n",
       "399997  https://cdn-st.rutubelist.ru/media/73/05/3f80f...   \n",
       "399998  https://cdn-st.rutubelist.ru/media/f8/2b/320f7...   \n",
       "399999  https://cdn-st.rutubelist.ru/media/19/1b/5711a...   \n",
       "\n",
       "                                              description  \n",
       "0       #нарезкистримов , #dota2 , #cs2 , #fifa23 , #m...  \n",
       "1       🤫НЕ ВВОДИ ЭТУ КОМАНДУ В РОБЛОКС ! #shorts #rob...  \n",
       "2                        #boobs , #красивыедевушки , #ass  \n",
       "3                                                     NaN  \n",
       "4                                                     NaN  \n",
       "...                                                   ...  \n",
       "399995  #ceramics #handmade #ceramic #clay #ceramicscu...  \n",
       "399996  #красивыедевушки #красотки #грудь #boobs #секс...  \n",
       "399997  #лайфхаки , #эксперименты , #roblox , #игрушки...  \n",
       "399998  #образ #lookbook #показ #неделямоды #капсула #...  \n",
       "399999  #образ #lookbook #показ #неделямоды #капсула #...  \n",
       "\n",
       "[400000 rows x 2 columns]"
      ]
     },
     "execution_count": 3,
     "metadata": {},
     "output_type": "execute_result"
    }
   ],
   "source": [
    "df = pd.read_csv(\"../../data/yappy_hackaton_2024_400k.csv\")\n",
    "df"
   ]
  },
  {
   "cell_type": "code",
   "execution_count": 4,
   "metadata": {},
   "outputs": [
    {
     "name": "stderr",
     "output_type": "stream",
     "text": [
      "Neither CUDA nor MPS are available - defaulting to CPU. Note: This module is much faster with a GPU.\n"
     ]
    }
   ],
   "source": [
    "text_extractor = TextExtractor()"
   ]
  },
  {
   "cell_type": "code",
   "execution_count": 5,
   "metadata": {},
   "outputs": [
    {
     "data": {
      "text/plain": [
       "'https://cdn-st.rutubelist.ru/media/b0/e9/ef285e0241139fc611318ed33071/fhd.mp4'"
      ]
     },
     "execution_count": 5,
     "metadata": {},
     "output_type": "execute_result"
    }
   ],
   "source": [
    "video_link = df.iloc[0].link\n",
    "video_link"
   ]
  },
  {
   "cell_type": "code",
   "execution_count": 6,
   "metadata": {},
   "outputs": [
    {
     "data": {
      "text/plain": [
       "(['Griezmann',\n",
       "  'Griezmann',\n",
       "  \"ГОЛ 51' Griezmann  [TSINTHEGAME\",\n",
       "  'ГОЛ',\n",
       "  \"ea ГОЛ 51' Griezmann\"],\n",
       " 11)"
      ]
     },
     "execution_count": 6,
     "metadata": {},
     "output_type": "execute_result"
    }
   ],
   "source": [
    "text_extractor.extract_text(video_link)"
   ]
  },
  {
   "cell_type": "code",
   "execution_count": null,
   "metadata": {},
   "outputs": [],
   "source": []
  }
 ],
 "metadata": {
  "kernelspec": {
   "display_name": "venv",
   "language": "python",
   "name": "python3"
  },
  "language_info": {
   "codemirror_mode": {
    "name": "ipython",
    "version": 3
   },
   "file_extension": ".py",
   "mimetype": "text/x-python",
   "name": "python",
   "nbconvert_exporter": "python",
   "pygments_lexer": "ipython3",
   "version": "3.10.11"
  }
 },
 "nbformat": 4,
 "nbformat_minor": 2
}
