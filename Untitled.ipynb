{
 "cells": [
  {
   "cell_type": "code",
   "execution_count": 2,
   "id": "35b0fd43-02fc-4a6b-af66-b0fd7e632aac",
   "metadata": {},
   "outputs": [
    {
     "name": "stderr",
     "output_type": "stream",
     "text": [
      "/Users/sapfaer/projects/hack/env/lib/python3.12/site-packages/sentence_transformers/cross_encoder/CrossEncoder.py:11: TqdmExperimentalWarning: Using `tqdm.autonotebook.tqdm` in notebook mode. Use `tqdm.tqdm` instead to force console mode (e.g. in jupyter console)\n",
      "  from tqdm.autonotebook import tqdm, trange\n"
     ]
    }
   ],
   "source": [
    "import faiss\n",
    "from sentence_transformers import SentenceTransformer\n",
    "import pandas as pd\n",
    "d = 768            # make faiss available\n",
    "index = faiss.IndexFlatL2(d)   # build the index"
   ]
  },
  {
   "cell_type": "code",
   "execution_count": 3,
   "id": "53d2bce3-d3c8-46f8-829d-f70a2372e82f",
   "metadata": {},
   "outputs": [],
   "source": [
    "data = pd.read_csv(\"13k_with_summary.csv\").omnisummary"
   ]
  },
  {
   "cell_type": "code",
   "execution_count": null,
   "id": "680a35a5-43a8-41d2-8b2f-4fd7a0f48423",
   "metadata": {},
   "outputs": [
    {
     "name": "stderr",
     "output_type": "stream",
     "text": [
      "/Users/sapfaer/projects/hack/env/lib/python3.12/site-packages/huggingface_hub/file_download.py:1132: FutureWarning: `resume_download` is deprecated and will be removed in version 1.0.0. Downloads always resume when possible. If you want to force a new download, use `force_download=True`.\n",
      "  warnings.warn(\n"
     ]
    }
   ],
   "source": [
    "embedder = SentenceTransformer(\"intfloat/multilingual-e5-base\").to(\"mps\")"
   ]
  },
  {
   "cell_type": "code",
   "execution_count": null,
   "id": "a716f100-642a-46b5-a7af-c04b864f62cd",
   "metadata": {},
   "outputs": [],
   "source": [
    "import faiss\n",
    "from sentence_transformers import SentenceTransformer\n",
    "import pandas as pd\n",
    "d = 768            # make faiss available\n",
    "index = faiss.IndexFlatL2(d)   # build the index\n",
    "data = pd.read_csv(\"13k_with_summary.csv\").omnisummary\n",
    "embedder = SentenceTransformer(\"intfloat/multilingual-e5-base\")"
   ]
  }
 ],
 "metadata": {
  "kernelspec": {
   "display_name": "Python 3 (ipykernel)",
   "language": "python",
   "name": "python3"
  },
  "language_info": {
   "codemirror_mode": {
    "name": "ipython",
    "version": 3
   },
   "file_extension": ".py",
   "mimetype": "text/x-python",
   "name": "python",
   "nbconvert_exporter": "python",
   "pygments_lexer": "ipython3",
   "version": "3.12.3"
  }
 },
 "nbformat": 4,
 "nbformat_minor": 5
}
